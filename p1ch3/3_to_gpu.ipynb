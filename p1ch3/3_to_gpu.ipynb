{
 "cells": [
  {
   "cell_type": "code",
   "execution_count": null,
   "metadata": {},
   "outputs": [],
   "source": [
    "# 通过指定构造函数的相应参数在 GPU 上创建一个张量\n",
    "import torch\n",
    "points_gpu = torch.tensor([[4.0, 1.0], [5.0, 3.0], [2.0, 1.0]], device='cuda')\n",
    "\n",
    "# 可以使用 to()方法将在 CPU 上创建的张量复制到 GPU 上\n",
    "# 这样做将返回一个新的张量，该张量具有相同的数字数据，但存储在 GPU 的 RAM 上，而不是常规系统的 RAM 上。\n",
    "# 现在数据被存储在本地 GPU 上，当我们对张量执行前面提到的运算时将加速。\n",
    "points = torch.tensor([[4.0, 1.0], [5.0, 3.0], [2.0, 1.0]])\n",
    "points_gpu = points.to(device='cuda')"
   ]
  }
 ],
 "metadata": {
  "language_info": {
   "name": "python"
  }
 },
 "nbformat": 4,
 "nbformat_minor": 2
}
