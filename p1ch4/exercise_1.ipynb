{
 "cells": [
  {
   "cell_type": "markdown",
   "metadata": {},
   "source": [
    "用手机或数码相机拍摄几张红色、蓝色和绿色物品的照片\n",
    "1. 加载所有图像，并将其转换为张量。\n",
    "2. 对于每个图像张量，使用 mean()函数来了解图像的亮度"
   ]
  },
  {
   "cell_type": "code",
   "execution_count": 5,
   "metadata": {},
   "outputs": [
    {
     "name": "stdout",
     "output_type": "stream",
     "text": [
      "red1.jpg的亮度为0.5950199961662292\n",
      "red2.jpg的亮度为0.16117851436138153\n",
      "red3.jpg的亮度为0.4367017447948456\n",
      "blue1.jpg的亮度为0.4641065001487732\n",
      "blue2.jpg的亮度为0.30560609698295593\n",
      "blue3.jpg的亮度为0.8169241547584534\n",
      "green1.jpg的亮度为0.20470519363880157\n",
      "green2.jpg的亮度为0.25051960349082947\n",
      "green3.jpg的亮度为0.21658165752887726\n"
     ]
    }
   ],
   "source": [
    "import torch\n",
    "from torchvision import transforms\n",
    "from PIL import Image\n",
    "red_imgs = ['../data/p1ch4/exercise/red1.jpg','../data/p1ch4/exercise/red2.jpg','../data/p1ch4/exercise/red3.jpg',]\n",
    "blue_imgs = ['../data/p1ch4/exercise/blue1.jpg','../data/p1ch4/exercise/blue2.jpg','../data/p1ch4/exercise/blue3.jpg',]\n",
    "green_imgs = ['../data/p1ch4/exercise/green1.jpg','../data/p1ch4/exercise/green2.jpg','../data/p1ch4/exercise/green3.jpg',]\n",
    "\n",
    "def load_images(images_list):\n",
    "    tensor_list = []\n",
    "    for image_path in images_list:\n",
    "        image = Image.open(image_path)\n",
    "        image_name = image_path.split('/')[-1] # 得到图片名称\n",
    "        tensor = transforms.ToTensor()(image)\n",
    "        tensor_list.append(tensor)\n",
    "        brightness = tensor.mean()\n",
    "        print(f\"{image_name}的亮度为{brightness}\")\n",
    "    return tensor_list\n",
    "\n",
    "# 以下三个变量类型都是列表，列表中的元素为图像张量\n",
    "red_tensors = load_images(red_imgs)\n",
    "blue_tensors = load_images(blue_imgs)\n",
    "green_tensors = load_images(green_imgs)\n"
   ]
  },
  {
   "cell_type": "markdown",
   "metadata": {},
   "source": [
    "通常情况下，红色图像的亮度值会偏高，绿色图像的亮度值会适中，蓝色图像的亮度值会偏低。"
   ]
  }
 ],
 "metadata": {
  "kernelspec": {
   "display_name": "Python 3",
   "language": "python",
   "name": "python3"
  },
  "language_info": {
   "codemirror_mode": {
    "name": "ipython",
    "version": 3
   },
   "file_extension": ".py",
   "mimetype": "text/x-python",
   "name": "python",
   "nbconvert_exporter": "python",
   "pygments_lexer": "ipython3",
   "version": "3.9.13"
  }
 },
 "nbformat": 4,
 "nbformat_minor": 2
}
