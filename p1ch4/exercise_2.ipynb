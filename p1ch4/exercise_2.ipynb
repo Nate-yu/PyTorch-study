{
 "cells": [
  {
   "cell_type": "markdown",
   "metadata": {},
   "source": [
    "选择一个包含 Python 源代码的相对较大的文件\n",
    "1. 为源文件中的所有单词建立一个索引（词切分方法采用简单方式还是复杂方式取决于\n",
    "你自己，但我们建议用空格替换 r＂ [^a-zA-Z0-9_]+＂）\n",
    "2. 为源代码文件创建独热编码"
   ]
  },
  {
   "cell_type": "code",
   "execution_count": 8,
   "metadata": {},
   "outputs": [
    {
     "data": {
      "text/plain": [
       "array([[1., 1., 1., ..., 1., 1., 1.],\n",
       "       [0., 0., 0., ..., 0., 0., 0.],\n",
       "       [0., 0., 0., ..., 0., 0., 0.],\n",
       "       ...,\n",
       "       [0., 0., 0., ..., 0., 0., 0.],\n",
       "       [0., 0., 0., ..., 0., 0., 0.],\n",
       "       [0., 0., 0., ..., 0., 0., 0.]])"
      ]
     },
     "execution_count": 8,
     "metadata": {},
     "output_type": "execute_result"
    }
   ],
   "source": [
    "import re\n",
    "import numpy as np\n",
    "\n",
    "def build_word_index(file_path):\n",
    "    word_index = {}\n",
    "    with open(file_path, 'r') as file:\n",
    "        for line in file:\n",
    "            words = re.split(r'[^a-zA-Z0-9_]+', line)\n",
    "            for word in words:\n",
    "                if word not in word_index:\n",
    "                    word_index[word] = []\n",
    "                word_index[word].append(file_path)\n",
    "    return word_index\n",
    "\n",
    "def create_one_hot_encoding(word_index):\n",
    "    unique_words = sorted(list(word_index.keys()))\n",
    "    encoding = np.zeros((len(word_index), len(unique_words)))\n",
    "    for i, word in enumerate(unique_words):\n",
    "        files = word_index[word]\n",
    "        for file_path in files:\n",
    "            encoding[files.index(file_path), i] = 1\n",
    "    return encoding\n",
    "file_path = '../data/p1ch4/exercise/torch.py'\n",
    "word_index = build_word_index(file_path)\n",
    "encoding = create_one_hot_encoding(word_index)\n",
    "\n",
    "encoding"
   ]
  }
 ],
 "metadata": {
  "kernelspec": {
   "display_name": "Python 3",
   "language": "python",
   "name": "python3"
  },
  "language_info": {
   "codemirror_mode": {
    "name": "ipython",
    "version": 3
   },
   "file_extension": ".py",
   "mimetype": "text/x-python",
   "name": "python",
   "nbconvert_exporter": "python",
   "pygments_lexer": "ipython3",
   "version": "3.9.13"
  }
 },
 "nbformat": 4,
 "nbformat_minor": 2
}
